{
 "cells": [
  {
   "cell_type": "markdown",
   "metadata": {},
   "source": [
    "## 1. Import Data dan Library yang diperlukan"
   ]
  },
  {
   "cell_type": "code",
   "execution_count": 1,
   "metadata": {},
   "outputs": [],
   "source": [
    "#import library\n",
    "import pandas as pd\n",
    "import numpy as np\n",
    "from scipy import stats\n",
    "import seaborn as sns\n",
    "import matplotlib.pyplot as plt\n",
    "import sqlite3\n",
    "\n",
    "#import warnings\n",
    "import warnings\n",
    "warnings.filterwarnings('ignore')\n",
    "pd.set_option('display.max_columns', None)"
   ]
  },
  {
   "cell_type": "code",
   "execution_count": 2,
   "metadata": {},
   "outputs": [
    {
     "name": "stdout",
     "output_type": "stream",
     "text": [
      "                                name\n",
      "0       olist_order_customer_dataset\n",
      "1                olist_order_dataset\n",
      "2        olist_order_reviews_dataset\n",
      "3       olist_order_payments_dataset\n",
      "4          olist_order_items_dataset\n",
      "5             olist_products_dataset\n",
      "6              olist_sellers_dataset\n",
      "7          olist_geolocation_dataset\n",
      "8  product_category_name_translation\n"
     ]
    }
   ],
   "source": [
    "#Melihat isi database olist\n",
    "conn = sqlite3.connect('olist.db')\n",
    "list_table = pd.read_sql(\"SELECT name FROM sqlite_master WHERE type='table';\", conn)\n",
    "print(list_table)"
   ]
  },
  {
   "cell_type": "code",
   "execution_count": 3,
   "metadata": {},
   "outputs": [],
   "source": [
    "#Membaca dan mengambil data dari database\n",
    "conn = sqlite3.connect('olist.db')\n",
    "query1 = 'SELECT * FROM olist_order_customer_dataset' \n",
    "df_customer = pd.read_sql(query1, conn)\n",
    "\n",
    "query2 = 'SELECT * FROM olist_order_dataset' \n",
    "df_orders = pd.read_sql(query2, conn)\n",
    "\n",
    "query3 = 'SELECT * FROM olist_order_reviews_dataset' \n",
    "df_order_reviews = pd.read_sql(query3, conn)\n",
    "\n",
    "query4 = 'SELECT * FROM olist_order_payments_dataset' \n",
    "df_order_payments = pd.read_sql(query4, conn)\n",
    "\n",
    "query5 = 'SELECT * FROM olist_order_items_dataset' \n",
    "df_order_items = pd.read_sql(query5, conn)\n",
    "\n",
    "query6 = 'SELECT * FROM olist_products_dataset' \n",
    "df_product = pd.read_sql(query6, conn)\n",
    "\n",
    "query7 = 'SELECT * FROM olist_sellers_dataset' \n",
    "df_seller = pd.read_sql(query7, conn)\n",
    "\n",
    "query8 = 'SELECT * FROM olist_geolocation_dataset'\n",
    "df_geolocation = pd.read_sql(query8, conn)\n",
    "\n",
    "query9 = 'SELECT * FROM product_category_name_translation'\n",
    "df_category_translation = pd.read_sql(query9, conn)"
   ]
  },
  {
   "cell_type": "markdown",
   "metadata": {},
   "source": [
    "## 2. Explorasi dan Pemrosesan Data"
   ]
  },
  {
   "cell_type": "markdown",
   "metadata": {},
   "source": [
    "### a. Identifikasi NaN"
   ]
  },
  {
   "cell_type": "code",
   "execution_count": 4,
   "metadata": {},
   "outputs": [],
   "source": [
    "# Cek NaN pada setiap kolom\n",
    "def check_nan(df):\n",
    "    nan_counts = df.isnull().sum()\n",
    "    nan_percentages = (nan_counts / len(df)) * 100\n",
    "    nan_info = pd.DataFrame({'NaN Counts': nan_counts, 'NaN Percentages': nan_percentages})\n",
    "    return nan_info"
   ]
  },
  {
   "cell_type": "code",
   "execution_count": 5,
   "metadata": {},
   "outputs": [
    {
     "name": "stdout",
     "output_type": "stream",
     "text": [
      "Olist Customer:\n",
      "                          NaN Counts  NaN Percentages\n",
      "index                              0              0.0\n",
      "customer_id                        0              0.0\n",
      "customer_unique_id                 0              0.0\n",
      "customer_zip_code_prefix           0              0.0\n",
      "customer_city                      0              0.0\n",
      "customer_state                     0              0.0\n"
     ]
    }
   ],
   "source": [
    "# Cek NaN pada dataframe Olist Customer\n",
    "nan_info_customer = check_nan(df_customer)\n",
    "print(\"Olist Customer:\")\n",
    "print(nan_info_customer)"
   ]
  },
  {
   "cell_type": "code",
   "execution_count": 6,
   "metadata": {},
   "outputs": [
    {
     "name": "stdout",
     "output_type": "stream",
     "text": [
      "Olist Orders:\n",
      "                               NaN Counts  NaN Percentages\n",
      "index                                   0         0.000000\n",
      "order_id                                0         0.000000\n",
      "customer_id                             0         0.000000\n",
      "order_status                            0         0.000000\n",
      "order_purchase_timestamp                0         0.000000\n",
      "order_approved_at                     160         0.160899\n",
      "order_delivered_carrier_date         1783         1.793023\n",
      "order_delivered_customer_date        2965         2.981668\n",
      "order_estimated_delivery_date           0         0.000000\n"
     ]
    }
   ],
   "source": [
    "# Cek NaN pada dataframe Olist Orders\n",
    "nan_info_orders = check_nan(df_orders)\n",
    "print(\"Olist Orders:\")\n",
    "print(nan_info_orders)"
   ]
  },
  {
   "cell_type": "code",
   "execution_count": 7,
   "metadata": {},
   "outputs": [
    {
     "name": "stdout",
     "output_type": "stream",
     "text": [
      "Olist Order Reviews:\n",
      "                         NaN Counts  NaN Percentages\n",
      "index                             0         0.000000\n",
      "review_id                         0         0.000000\n",
      "order_id                          0         0.000000\n",
      "review_score                      0         0.000000\n",
      "review_comment_title          87656        88.341530\n",
      "review_comment_message        58247        58.702532\n",
      "review_creation_date              0         0.000000\n",
      "review_answer_timestamp           0         0.000000\n"
     ]
    }
   ],
   "source": [
    "# Cek NaN pada dataframe Olist Order Reviews\n",
    "nan_info_order_reviews = check_nan(df_order_reviews)\n",
    "print(\"Olist Order Reviews:\")\n",
    "print(nan_info_order_reviews)"
   ]
  },
  {
   "cell_type": "code",
   "execution_count": 8,
   "metadata": {},
   "outputs": [
    {
     "name": "stdout",
     "output_type": "stream",
     "text": [
      "Olist Order Payments:\n",
      "                      NaN Counts  NaN Percentages\n",
      "index                          0              0.0\n",
      "order_id                       0              0.0\n",
      "payment_sequential             0              0.0\n",
      "payment_type                   0              0.0\n",
      "payment_installments           0              0.0\n",
      "payment_value                  0              0.0\n"
     ]
    }
   ],
   "source": [
    "# Cek NaN pada dataframe Olist Order Payments\n",
    "nan_info_order_payments = check_nan(df_order_payments)\n",
    "print(\"Olist Order Payments:\")\n",
    "print(nan_info_order_payments)"
   ]
  },
  {
   "cell_type": "code",
   "execution_count": 9,
   "metadata": {},
   "outputs": [
    {
     "name": "stdout",
     "output_type": "stream",
     "text": [
      "Olist Order Items:\n",
      "                     NaN Counts  NaN Percentages\n",
      "index                         0              0.0\n",
      "order_id                      0              0.0\n",
      "order_item_id                 0              0.0\n",
      "product_id                    0              0.0\n",
      "seller_id                     0              0.0\n",
      "shipping_limit_date           0              0.0\n",
      "price                         0              0.0\n",
      "freight_value                 0              0.0\n"
     ]
    }
   ],
   "source": [
    "# Cek NaN pada dataframe Olist Order Items\n",
    "nan_info_order_items = check_nan(df_order_items)\n",
    "print(\"Olist Order Items:\")\n",
    "print(nan_info_order_items)"
   ]
  },
  {
   "cell_type": "code",
   "execution_count": 10,
   "metadata": {},
   "outputs": [
    {
     "name": "stdout",
     "output_type": "stream",
     "text": [
      "Olist Product:\n",
      "                            NaN Counts  NaN Percentages\n",
      "index                                0         0.000000\n",
      "product_id                           0         0.000000\n",
      "product_category_name              610         1.851234\n",
      "product_name_lenght                610         1.851234\n",
      "product_description_lenght         610         1.851234\n",
      "product_photos_qty                 610         1.851234\n",
      "product_weight_g                     2         0.006070\n",
      "product_length_cm                    2         0.006070\n",
      "product_height_cm                    2         0.006070\n",
      "product_width_cm                     2         0.006070\n"
     ]
    }
   ],
   "source": [
    "# Cek NaN pada dataframe Olist Product\n",
    "nan_info_product = check_nan(df_product)\n",
    "print(\"Olist Product:\")\n",
    "print(nan_info_product)"
   ]
  },
  {
   "cell_type": "code",
   "execution_count": 11,
   "metadata": {
    "scrolled": true
   },
   "outputs": [
    {
     "name": "stdout",
     "output_type": "stream",
     "text": [
      "Olist Seller:\n",
      "                        NaN Counts  NaN Percentages\n",
      "index                            0              0.0\n",
      "seller_id                        0              0.0\n",
      "seller_zip_code_prefix           0              0.0\n",
      "seller_city                      0              0.0\n",
      "seller_state                     0              0.0\n"
     ]
    }
   ],
   "source": [
    "# Cek NaN pada dataframe Olist Seller\n",
    "nan_info_seller = check_nan(df_seller)\n",
    "print(\"Olist Seller:\")\n",
    "print(nan_info_seller)"
   ]
  },
  {
   "cell_type": "code",
   "execution_count": 12,
   "metadata": {},
   "outputs": [
    {
     "name": "stdout",
     "output_type": "stream",
     "text": [
      "Olist Geolocation:\n",
      "                             NaN Counts  NaN Percentages\n",
      "index                                 0              0.0\n",
      "geolocation_zip_code_prefix           0              0.0\n",
      "geolocation_lat                       0              0.0\n",
      "geolocation_lng                       0              0.0\n",
      "geolocation_city                      0              0.0\n",
      "geolocation_state                     0              0.0\n"
     ]
    }
   ],
   "source": [
    "# Cek NaN pada dataframe Olist Geolocation\n",
    "nan_info_geolocation = check_nan(df_geolocation)\n",
    "print(\"Olist Geolocation:\")\n",
    "print(nan_info_geolocation)"
   ]
  },
  {
   "cell_type": "code",
   "execution_count": 13,
   "metadata": {
    "scrolled": false
   },
   "outputs": [
    {
     "name": "stdout",
     "output_type": "stream",
     "text": [
      "Product Category Name Translation:\n",
      "                               NaN Counts  NaN Percentages\n",
      "index                                   0              0.0\n",
      "product_category_name                   0              0.0\n",
      "product_category_name_english           0              0.0\n"
     ]
    }
   ],
   "source": [
    "# Cek NaN pada dataframe Product Category Name Translation\n",
    "nan_info_category_translation = check_nan(df_category_translation)\n",
    "print(\"Product Category Name Translation:\")\n",
    "print(nan_info_category_translation)"
   ]
  },
  {
   "cell_type": "markdown",
   "metadata": {},
   "source": [
    "NaN atau Null Value tidak terlalu besar. Dibawah tiga persen pada masing-masing tabel. Kecuali pada tabel **Olist Order Reviews** tepatnya pada kolom ``review_comment_title`` 88.34% dan ``review_comment_message`` 58.70%. Hal ini bisa ditoleransi karena tidak semua customer memberikan review berupa komentar, kebanyakan hanya memberikan review berupa nilai (1-5) saja.\n",
    "\n",
    "Dari sini saya rasa datanya sudah cukup bagus. Tidak perlu dilakukan modifikasi pada NaN.\n"
   ]
  },
  {
   "cell_type": "markdown",
   "metadata": {},
   "source": [
    "### b. Identifikasi Outlier"
   ]
  },
  {
   "cell_type": "markdown",
   "metadata": {},
   "source": [
    "Setelah melakukan pengecekan pada semua data, didapatkan outlier pada dua kolom, yaitu:\n",
    "- Order payment = payment value\n",
    "- Order Items = Price"
   ]
  },
  {
   "cell_type": "code",
   "execution_count": 14,
   "metadata": {},
   "outputs": [
    {
     "name": "stdout",
     "output_type": "stream",
     "text": [
      "               index  order_item_id          price  freight_value\n",
      "count  112650.000000  112650.000000  112650.000000  112650.000000\n",
      "mean    56324.500000       1.197834     120.653739      19.990320\n",
      "std     32519.398249       0.705124     183.633928      15.806405\n",
      "min         0.000000       1.000000       0.850000       0.000000\n",
      "25%     28162.250000       1.000000      39.900000      13.080000\n",
      "50%     56324.500000       1.000000      74.990000      16.260000\n",
      "75%     84486.750000       1.000000     134.900000      21.150000\n",
      "max    112649.000000      21.000000    6735.000000     409.680000\n"
     ]
    }
   ],
   "source": [
    "print(df_order_items.describe())"
   ]
  },
  {
   "cell_type": "code",
   "execution_count": 15,
   "metadata": {},
   "outputs": [
    {
     "name": "stdout",
     "output_type": "stream",
     "text": [
      "              index  payment_sequential  payment_installments  payment_value\n",
      "count  103886.00000       103886.000000         103886.000000  103886.000000\n",
      "mean    51942.50000            1.092679              2.853349     154.100380\n",
      "std     29989.44937            0.706584              2.687051     217.494064\n",
      "min         0.00000            1.000000              0.000000       0.000000\n",
      "25%     25971.25000            1.000000              1.000000      56.790000\n",
      "50%     51942.50000            1.000000              1.000000     100.000000\n",
      "75%     77913.75000            1.000000              4.000000     171.837500\n",
      "max    103885.00000           29.000000             24.000000   13664.080000\n"
     ]
    }
   ],
   "source": [
    "print(df_order_payments.describe())"
   ]
  },
  {
   "cell_type": "code",
   "execution_count": 16,
   "metadata": {},
   "outputs": [],
   "source": [
    "# Fungsi untuk menampilkan histogram\n",
    "def plot_histogram(df, columns):\n",
    "    plt.figure(figsize=(10, 4))\n",
    "    for i, column in enumerate(columns):\n",
    "        plt.subplot(1, 2, i+1)\n",
    "        df[column].plot(kind='hist', bins=20, edgecolor='black')\n",
    "        plt.title(f'Histogram - {column}', fontsize=14)\n",
    "        plt.xlabel(column, fontsize=12)\n",
    "    plt.tight_layout()\n",
    "    plt.show()"
   ]
  },
  {
   "cell_type": "code",
   "execution_count": 17,
   "metadata": {},
   "outputs": [
    {
     "data": {
      "image/png": "[encoded data removed]",
      "text/plain": [
       "<Figure size 720x288 with 1 Axes>"
      ]
     },
     "metadata": {
      "needs_background": "light"
     },
     "output_type": "display_data"
    }
   ],
   "source": [
    "# Menampilkan histogram\n",
    "plt.figure(figsize=(10, 4))\n",
    "column = 'price'\n",
    "plt.hist(df_order_items[column], bins=20, edgecolor='black')\n",
    "plt.title(f'Histogram - {column}', fontsize=14)\n",
    "plt.xlabel(column, fontsize=12)\n",
    "plt.tight_layout()\n",
    "#plt.savefig(\"img/2-b-his-price-bf.jpeg\")\n",
    "plt.show()"
   ]
  },
  {
   "cell_type": "code",
   "execution_count": 18,
   "metadata": {
    "scrolled": true
   },
   "outputs": [
    {
     "data": {
      "image/png": "[encoded data removed]",
      "text/plain": [
       "<Figure size 720x288 with 1 Axes>"
      ]
     },
     "metadata": {
      "needs_background": "light"
     },
     "output_type": "display_data"
    }
   ],
   "source": [
    "# Menampilkan histogram\n",
    "plt.figure(figsize=(10, 4))\n",
    "column = 'payment_value'\n",
    "plt.hist(df_order_payments[column], bins=20, edgecolor='black')\n",
    "plt.title(f'Histogram - {column}', fontsize=14)\n",
    "plt.xlabel(column, fontsize=12)\n",
    "plt.tight_layout()\n",
    "#plt.savefig(\"img/2-b-his-payment-bf.jpeg\")\n",
    "plt.show()"
   ]
  },
  {
   "cell_type": "code",
   "execution_count": 19,
   "metadata": {},
   "outputs": [],
   "source": [
    "# Fungsi untuk menghapus outlier menggunakan metode IQR\n",
    "def remove_outliers_iqr(df, column):\n",
    "    Q1 = df[column].quantile(0.25)\n",
    "    Q3 = df[column].quantile(0.75)\n",
    "    IQR = Q3 - Q1\n",
    "    lower_bound = Q1 - 1.5 * IQR\n",
    "    upper_bound = Q3 + 1.5 * IQR\n",
    "    df_filtered = df[(df[column] >= lower_bound) & (df[column] <= upper_bound)]\n",
    "    return df_filtered"
   ]
  },
  {
   "cell_type": "code",
   "execution_count": 20,
   "metadata": {},
   "outputs": [],
   "source": [
    "# Menghapus outlier pada dataframe Olist Order Items\n",
    "outlier_columns_order_items = ['price', 'freight_value']\n",
    "for column in outlier_columns_order_items:\n",
    "    df_order_items = remove_outliers_iqr(df_order_items, column)\n",
    "\n",
    "# Menghapus outlier pada dataframe Olist Order Payments\n",
    "outlier_columns_order_payments = ['payment_installments', 'payment_value']\n",
    "for column in outlier_columns_order_payments:\n",
    "    df_order_payments = remove_outliers_iqr(df_order_payments, column)"
   ]
  },
  {
   "cell_type": "code",
   "execution_count": 21,
   "metadata": {},
   "outputs": [
    {
     "data": {
      "image/png": "[encoded data removed]",
      "text/plain": [
       "<Figure size 720x288 with 1 Axes>"
      ]
     },
     "metadata": {
      "needs_background": "light"
     },
     "output_type": "display_data"
    }
   ],
   "source": [
    "# Menampilkan histogram\n",
    "plt.figure(figsize=(10, 4))\n",
    "column = 'price'\n",
    "plt.hist(df_order_items[column], bins=20, edgecolor='black')\n",
    "plt.title(f'Histogram - {column}', fontsize=14)\n",
    "plt.xlabel(column, fontsize=12)\n",
    "plt.tight_layout()\n",
    "#plt.savefig(\"img/2-b-his-price-af.jpeg\")\n",
    "plt.show()"
   ]
  },
  {
   "cell_type": "code",
   "execution_count": 22,
   "metadata": {},
   "outputs": [
    {
     "data": {
      "image/png": "[encoded data removed]",
      "text/plain": [
       "<Figure size 720x288 with 1 Axes>"
      ]
     },
     "metadata": {
      "needs_background": "light"
     },
     "output_type": "display_data"
    }
   ],
   "source": [
    "# Menampilkan histogram\n",
    "plt.figure(figsize=(10, 4))\n",
    "column = 'payment_value'\n",
    "plt.hist(df_order_payments[column], bins=20, edgecolor='black')\n",
    "plt.title(f'Histogram - {column}', fontsize=14)\n",
    "plt.xlabel(column, fontsize=12)\n",
    "plt.tight_layout()\n",
    "#plt.savefig(\"img/2-b-his-payment-af.jpeg\")\n",
    "plt.show()"
   ]
  },
  {
   "cell_type": "markdown",
   "metadata": {},
   "source": [
    "### c. Identifikasi Inconsistent format"
   ]
  },
  {
   "cell_type": "markdown",
   "metadata": {},
   "source": [
    "Setelah melakukan beberapa pengecekan sepertinya semua format sudah sesuai. Tidak ada inconsistent format yang harus diperbaiki.\n",
    "\n",
    "\n",
    "Berikut beberapa contohnya:"
   ]
  },
  {
   "cell_type": "code",
   "execution_count": 23,
   "metadata": {},
   "outputs": [
    {
     "data": {
      "text/plain": [
       "5    57328\n",
       "4    19142\n",
       "1    11424\n",
       "3     8179\n",
       "2     3151\n",
       "Name: review_score, dtype: int64"
      ]
     },
     "execution_count": 23,
     "metadata": {},
     "output_type": "execute_result"
    }
   ],
   "source": [
    "df_order_reviews.review_score.value_counts()"
   ]
  },
  {
   "cell_type": "code",
   "execution_count": 24,
   "metadata": {},
   "outputs": [
    {
     "data": {
      "text/plain": [
       "credit_card    65448\n",
       "boleto         18342\n",
       "voucher         5674\n",
       "debit_card      1436\n",
       "not_defined        3\n",
       "Name: payment_type, dtype: int64"
      ]
     },
     "execution_count": 24,
     "metadata": {},
     "output_type": "execute_result"
    }
   ],
   "source": [
    "df_order_payments.payment_type.value_counts()"
   ]
  },
  {
   "cell_type": "code",
   "execution_count": 25,
   "metadata": {},
   "outputs": [
    {
     "data": {
      "text/plain": [
       "sao paulo         135800\n",
       "rio de janeiro     62151\n",
       "belo horizonte     27805\n",
       "são paulo          24918\n",
       "curitiba           16593\n",
       "                   ...  \n",
       "boa sorte              1\n",
       "bacurituba             1\n",
       "pintópolis             1\n",
       "batinga                1\n",
       "silvano                1\n",
       "Name: geolocation_city, Length: 8011, dtype: int64"
      ]
     },
     "execution_count": 25,
     "metadata": {},
     "output_type": "execute_result"
    }
   ],
   "source": [
    "df_geolocation.geolocation_city.value_counts()"
   ]
  },
  {
   "cell_type": "markdown",
   "metadata": {},
   "source": [
    "### d. Identifikasi duplicate data"
   ]
  },
  {
   "cell_type": "code",
   "execution_count": 26,
   "metadata": {},
   "outputs": [],
   "source": [
    "# Cek duplikasi dalam dataframe dan tampilkan jumlah duplikasi\n",
    "def check_duplicates(df):\n",
    "    duplicated_rows = df[df.duplicated()]\n",
    "    print(\"Jumlah Data Terduplikasi:\", len(duplicated_rows))\n",
    "    return duplicated_rows"
   ]
  },
  {
   "cell_type": "code",
   "execution_count": 27,
   "metadata": {},
   "outputs": [
    {
     "name": "stdout",
     "output_type": "stream",
     "text": [
      "Olist Customer - Data Terduplikasi:\n",
      "Jumlah Data Terduplikasi: 0\n",
      "Empty DataFrame\n",
      "Columns: [index, customer_id, customer_unique_id, customer_zip_code_prefix, customer_city, customer_state]\n",
      "Index: []\n"
     ]
    }
   ],
   "source": [
    "# Menampilkan data yang terduplikasi dalam setiap dataframe\n",
    "print(\"Olist Customer - Data Terduplikasi:\")\n",
    "duplicates_customer = check_duplicates(df_customer)\n",
    "print(duplicates_customer)"
   ]
  },
  {
   "cell_type": "code",
   "execution_count": 28,
   "metadata": {},
   "outputs": [
    {
     "name": "stdout",
     "output_type": "stream",
     "text": [
      "Olist Geolocation - Data Terduplikasi:\n",
      "Jumlah Data Terduplikasi: 0\n",
      "Empty DataFrame\n",
      "Columns: [index, geolocation_zip_code_prefix, geolocation_lat, geolocation_lng, geolocation_city, geolocation_state]\n",
      "Index: []\n"
     ]
    }
   ],
   "source": [
    "print(\"Olist Geolocation - Data Terduplikasi:\")\n",
    "duplicates_geolocation = check_duplicates(df_geolocation)\n",
    "print(duplicates_geolocation)"
   ]
  },
  {
   "cell_type": "code",
   "execution_count": 29,
   "metadata": {},
   "outputs": [
    {
     "name": "stdout",
     "output_type": "stream",
     "text": [
      "Olist Order Items - Data Terduplikasi:\n",
      "Jumlah Data Terduplikasi: 0\n",
      "Empty DataFrame\n",
      "Columns: [index, order_id, order_item_id, product_id, seller_id, shipping_limit_date, price, freight_value]\n",
      "Index: []\n"
     ]
    }
   ],
   "source": [
    "print(\"Olist Order Items - Data Terduplikasi:\")\n",
    "duplicates_order_items = check_duplicates(df_order_items)\n",
    "print(duplicates_order_items)\n"
   ]
  },
  {
   "cell_type": "code",
   "execution_count": 30,
   "metadata": {},
   "outputs": [
    {
     "name": "stdout",
     "output_type": "stream",
     "text": [
      "Olist Order Payments - Data Terduplikasi:\n",
      "Jumlah Data Terduplikasi: 0\n",
      "Empty DataFrame\n",
      "Columns: [index, order_id, payment_sequential, payment_type, payment_installments, payment_value]\n",
      "Index: []\n"
     ]
    }
   ],
   "source": [
    "print(\"Olist Order Payments - Data Terduplikasi:\")\n",
    "duplicates_order_payments = check_duplicates(df_order_payments)\n",
    "print(duplicates_order_payments)"
   ]
  },
  {
   "cell_type": "code",
   "execution_count": 31,
   "metadata": {},
   "outputs": [
    {
     "name": "stdout",
     "output_type": "stream",
     "text": [
      "Olist Order Reviews - Data Terduplikasi:\n",
      "Jumlah Data Terduplikasi: 0\n",
      "Empty DataFrame\n",
      "Columns: [index, review_id, order_id, review_score, review_comment_title, review_comment_message, review_creation_date, review_answer_timestamp]\n",
      "Index: []\n"
     ]
    }
   ],
   "source": [
    "print(\"Olist Order Reviews - Data Terduplikasi:\")\n",
    "duplicates_order_reviews = check_duplicates(df_order_reviews)\n",
    "print(duplicates_order_reviews)"
   ]
  },
  {
   "cell_type": "code",
   "execution_count": 32,
   "metadata": {},
   "outputs": [
    {
     "name": "stdout",
     "output_type": "stream",
     "text": [
      "Olist Orders - Data Terduplikasi:\n",
      "Jumlah Data Terduplikasi: 0\n",
      "Empty DataFrame\n",
      "Columns: [index, order_id, customer_id, order_status, order_purchase_timestamp, order_approved_at, order_delivered_carrier_date, order_delivered_customer_date, order_estimated_delivery_date]\n",
      "Index: []\n"
     ]
    }
   ],
   "source": [
    "print(\"Olist Orders - Data Terduplikasi:\")\n",
    "duplicates_orders = check_duplicates(df_orders)\n",
    "print(duplicates_orders)"
   ]
  },
  {
   "cell_type": "code",
   "execution_count": 33,
   "metadata": {},
   "outputs": [
    {
     "name": "stdout",
     "output_type": "stream",
     "text": [
      "Olist Product - Data Terduplikasi:\n",
      "Jumlah Data Terduplikasi: 0\n",
      "Empty DataFrame\n",
      "Columns: [index, product_id, product_category_name, product_name_lenght, product_description_lenght, product_photos_qty, product_weight_g, product_length_cm, product_height_cm, product_width_cm]\n",
      "Index: []\n"
     ]
    }
   ],
   "source": [
    "print(\"Olist Product - Data Terduplikasi:\")\n",
    "duplicates_product = check_duplicates(df_product)\n",
    "print(duplicates_product)"
   ]
  },
  {
   "cell_type": "code",
   "execution_count": 34,
   "metadata": {},
   "outputs": [
    {
     "name": "stdout",
     "output_type": "stream",
     "text": [
      "Olist Seller - Data Terduplikasi:\n",
      "Jumlah Data Terduplikasi: 0\n",
      "Empty DataFrame\n",
      "Columns: [index, seller_id, seller_zip_code_prefix, seller_city, seller_state]\n",
      "Index: []\n"
     ]
    }
   ],
   "source": [
    "print(\"Olist Seller - Data Terduplikasi:\")\n",
    "duplicates_seller = check_duplicates(df_seller)\n",
    "print(duplicates_seller)"
   ]
  },
  {
   "cell_type": "markdown",
   "metadata": {},
   "source": [
    "### e. Parsing Data"
   ]
  },
  {
   "cell_type": "markdown",
   "metadata": {},
   "source": [
    "Parsing data dilakukan untuk mengubah data yang seharusnya bertipe date time tetapi masih bertipe teks atau objek. Setelah melakukan pengecekan diperlukan melakukan parsing data pada tabel dan kolom berikut:\n",
    "\n",
    "- ``df_orders['order_purchase_timestamp', 'order_approved_at', 'order_delivered_carrier_date', 'order_delivered_customer_date','order_estimated_delivery_date']``\n",
    "- ``df_order_reviews['review_creation_date', 'review_answer_timestamp']``\n",
    "- ``df_order_items['shipping_limit_date']``\n"
   ]
  },
  {
   "cell_type": "code",
   "execution_count": 35,
   "metadata": {},
   "outputs": [
    {
     "data": {
      "text/plain": [
       "index                             int64\n",
       "order_id                         object\n",
       "customer_id                      object\n",
       "order_status                     object\n",
       "order_purchase_timestamp         object\n",
       "order_approved_at                object\n",
       "order_delivered_carrier_date     object\n",
       "order_delivered_customer_date    object\n",
       "order_estimated_delivery_date    object\n",
       "dtype: object"
      ]
     },
     "execution_count": 35,
     "metadata": {},
     "output_type": "execute_result"
    }
   ],
   "source": [
    "df_orders.dtypes"
   ]
  },
  {
   "cell_type": "code",
   "execution_count": 36,
   "metadata": {},
   "outputs": [
    {
     "data": {
      "text/plain": [
       "index                       int64\n",
       "review_id                  object\n",
       "order_id                   object\n",
       "review_score                int64\n",
       "review_comment_title       object\n",
       "review_comment_message     object\n",
       "review_creation_date       object\n",
       "review_answer_timestamp    object\n",
       "dtype: object"
      ]
     },
     "execution_count": 36,
     "metadata": {},
     "output_type": "execute_result"
    }
   ],
   "source": [
    "df_order_reviews.dtypes"
   ]
  },
  {
   "cell_type": "code",
   "execution_count": 37,
   "metadata": {
    "scrolled": false
   },
   "outputs": [
    {
     "data": {
      "text/plain": [
       "index                    int64\n",
       "order_id                object\n",
       "order_item_id            int64\n",
       "product_id              object\n",
       "seller_id               object\n",
       "shipping_limit_date     object\n",
       "price                  float64\n",
       "freight_value          float64\n",
       "dtype: object"
      ]
     },
     "execution_count": 37,
     "metadata": {},
     "output_type": "execute_result"
    }
   ],
   "source": [
    "df_order_items.dtypes"
   ]
  },
  {
   "cell_type": "code",
   "execution_count": 38,
   "metadata": {},
   "outputs": [
    {
     "name": "stdout",
     "output_type": "stream",
     "text": [
      "Informasi setelah parsing data:\n",
      "Tipe Data Olist Orders:\n",
      "index                                     int64\n",
      "order_id                                 object\n",
      "customer_id                              object\n",
      "order_status                             object\n",
      "order_purchase_timestamp         datetime64[ns]\n",
      "order_approved_at                datetime64[ns]\n",
      "order_delivered_carrier_date     datetime64[ns]\n",
      "order_delivered_customer_date    datetime64[ns]\n",
      "order_estimated_delivery_date    datetime64[ns]\n",
      "dtype: object\n"
     ]
    }
   ],
   "source": [
    "datetime_columns_orders = ['order_purchase_timestamp', 'order_approved_at', 'order_delivered_carrier_date',\n",
    "                           'order_delivered_customer_date', 'order_estimated_delivery_date']\n",
    "\n",
    "# Parsing data pada kolom tanggal dan waktu dalam Olist Orders\n",
    "for column in datetime_columns_orders:\n",
    "    df_orders[column] = pd.to_datetime(df_orders[column])\n",
    "    \n",
    "# Menampilkan informasi setelah parsing data\n",
    "print(\"Informasi setelah parsing data:\")\n",
    "print(\"Tipe Data Olist Orders:\")\n",
    "print(df_orders.dtypes)"
   ]
  },
  {
   "cell_type": "code",
   "execution_count": 39,
   "metadata": {},
   "outputs": [
    {
     "name": "stdout",
     "output_type": "stream",
     "text": [
      "Informasi setelah parsing data:\n",
      "\n",
      "Tipe Data Olist Order Reviews:\n",
      "index                               int64\n",
      "review_id                          object\n",
      "order_id                           object\n",
      "review_score                        int64\n",
      "review_comment_title               object\n",
      "review_comment_message             object\n",
      "review_creation_date       datetime64[ns]\n",
      "review_answer_timestamp    datetime64[ns]\n",
      "dtype: object\n"
     ]
    }
   ],
   "source": [
    "datetime_columns_order_reviews = ['review_creation_date', 'review_answer_timestamp']\n",
    "\n",
    "# Parsing data pada kolom tanggal dan waktu dalam Olist Order Reviews\n",
    "for column in datetime_columns_order_reviews:\n",
    "    df_order_reviews[column] = pd.to_datetime(df_order_reviews[column])\n",
    "    \n",
    "# Menampilkan informasi setelah parsing data\n",
    "print(\"Informasi setelah parsing data:\")\n",
    "print(\"\\nTipe Data Olist Order Reviews:\")\n",
    "print(df_order_reviews.dtypes)"
   ]
  },
  {
   "cell_type": "code",
   "execution_count": 40,
   "metadata": {},
   "outputs": [
    {
     "name": "stdout",
     "output_type": "stream",
     "text": [
      "Informasi setelah parsing data:\n",
      "\n",
      "Tipe Data Olist Order Items:\n",
      "index                           int64\n",
      "order_id                       object\n",
      "order_item_id                   int64\n",
      "product_id                     object\n",
      "seller_id                      object\n",
      "shipping_limit_date    datetime64[ns]\n",
      "price                         float64\n",
      "freight_value                 float64\n",
      "dtype: object\n"
     ]
    }
   ],
   "source": [
    "datetime_columns_order_items = ['shipping_limit_date']\n",
    "\n",
    "# Parsing data pada kolom tanggal dan waktu dalam Olist Order Items\n",
    "for column in datetime_columns_order_items:\n",
    "    df_order_items[column] = pd.to_datetime(df_order_items[column])\n",
    "    \n",
    "# Menampilkan informasi setelah parsing data\n",
    "print(\"Informasi setelah parsing data:\")\n",
    "print(\"\\nTipe Data Olist Order Items:\")\n",
    "print(df_order_items.dtypes)"
   ]
  },
  {
   "cell_type": "markdown",
   "metadata": {},
   "source": [
    "## 3. Analisa Data"
   ]
  },
  {
   "cell_type": "markdown",
   "metadata": {},
   "source": [
    "### a. Total Penjualan per Bulan"
   ]
  },
  {
   "cell_type": "code",
   "execution_count": 41,
   "metadata": {
    "scrolled": true
   },
   "outputs": [
    {
     "name": "stdout",
     "output_type": "stream",
     "text": [
      "      Bulan  Total Penjualan\n",
      "0   2016-09           252.24\n",
      "1   2016-10         28772.97\n",
      "2   2016-12            19.62\n",
      "3   2017-01         69837.27\n",
      "4   2017-02        162321.58\n",
      "5   2017-03        249165.89\n",
      "6   2017-04        225747.15\n",
      "7   2017-05        328022.50\n",
      "8   2017-06        291018.96\n",
      "9   2017-07        361054.14\n",
      "10  2017-08        397374.80\n",
      "11  2017-09        404721.63\n",
      "12  2017-10        446662.47\n",
      "13  2017-11        691479.50\n",
      "14  2017-12        556693.83\n",
      "15  2018-01        716586.70\n",
      "16  2018-02        650087.29\n",
      "17  2018-03        701746.18\n",
      "18  2018-04        698260.59\n",
      "19  2018-05        683058.82\n",
      "20  2018-06        613641.21\n",
      "21  2018-07        624079.02\n",
      "22  2018-08        625365.81\n",
      "23  2018-09          1758.89\n",
      "24  2018-10           589.67\n"
     ]
    }
   ],
   "source": [
    "# Menggabungkan tabel Olist Orders dengan Olist Order Payments\n",
    "df_order_and_payment = pd.merge(df_orders, df_order_payments, on='order_id')\n",
    "\n",
    "# Mengambil bulan dan tahun dari kolom order_purchase_timestamp\n",
    "df_order_and_payment ['month_year'] = df_order_and_payment['order_purchase_timestamp'].dt.to_period('M')\n",
    "\n",
    "# Menghitung total pembayaran (payment_value) per bulan\n",
    "monthly_sales = df_order_and_payment.groupby('month_year')['payment_value'].sum()\n",
    "\n",
    "# Menampilkan tabel total penjualan per bulan\n",
    "monthly_sales_df = monthly_sales.reset_index()\n",
    "monthly_sales_df.columns = ['Bulan', 'Total Penjualan']\n",
    "print(monthly_sales_df)"
   ]
  },
  {
   "cell_type": "code",
   "execution_count": 42,
   "metadata": {
    "scrolled": true
   },
   "outputs": [
    {
     "data": {
      "image/png": "[encoded data removed]",
      "text/plain": [
       "<Figure size 720x432 with 1 Axes>"
      ]
     },
     "metadata": {
      "needs_background": "light"
     },
     "output_type": "display_data"
    }
   ],
   "source": [
    "# Menampilkan visualisasi grafik penjualan bulanan\n",
    "plt.figure(figsize=(10, 6))\n",
    "monthly_sales.plot(kind='line', marker='o', color='b')\n",
    "plt.title('Total Penjualan per Bulan')\n",
    "plt.xlabel('Bulan')\n",
    "plt.ylabel('Total Penjualan')\n",
    "plt.grid(True)\n",
    "#plt.savefig(\"img/3-a-penjualan-perbulan.jpeg\")\n",
    "plt.tight_layout()\n",
    "plt.show()\n",
    "\n"
   ]
  },
  {
   "cell_type": "markdown",
   "metadata": {},
   "source": [
    "Penjualan cenderung meningkat selama tahun 2017 sampai bulan Agustus tahun 2018. Selama delapan bulan pertama di tahun 2018 penjualan selalu lebih dari 600000. Paling tinggi pada bulan Januari 2018 sebesar 716586."
   ]
  },
  {
   "cell_type": "markdown",
   "metadata": {},
   "source": [
    "### b. Kategori Produk dengan Pendapatan Tertinggi"
   ]
  },
  {
   "cell_type": "code",
   "execution_count": 43,
   "metadata": {
    "scrolled": true
   },
   "outputs": [
    {
     "name": "stdout",
     "output_type": "stream",
     "text": [
      "         Kategori Produk  Pendapatan\n",
      "0         bed_bath_table   855796.19\n",
      "1         sports_leisure   636280.08\n",
      "2          health_beauty   627342.29\n",
      "3  computers_accessories   580770.74\n",
      "4          watches_gifts   524937.85\n",
      "5        furniture_decor   484217.30\n",
      "6             housewares   393481.80\n",
      "7             cool_stuff   344459.62\n",
      "8                   toys   296425.09\n",
      "9                   auto   289458.83\n"
     ]
    }
   ],
   "source": [
    "# Menggabungkan tabel Olist Order Items dengan Olist Product\n",
    "df_items_product = pd.merge(df_order_items, df_product, on='product_id')\n",
    "\n",
    "# Menggabungkan dengan tabel Product Category Name Translation\n",
    "df_items_product_eng = pd.merge(df_items_product, df_category_translation, on='product_category_name', how='left')\n",
    "\n",
    "# Menghitung total pendapatan (price) per kategori produk\n",
    "category_revenue = df_items_product_eng.groupby('product_category_name_english')['price'].sum().sort_values(ascending=False).head(10)\n",
    "\n",
    "# Menampilkan tabel pendapatan tertinggi per kategori produk\n",
    "category_revenue_df = category_revenue.reset_index()\n",
    "category_revenue_df.columns = ['Kategori Produk', 'Pendapatan']\n",
    "print(category_revenue_df)"
   ]
  },
  {
   "cell_type": "code",
   "execution_count": 50,
   "metadata": {
    "scrolled": false
   },
   "outputs": [
    {
     "data": {
      "image/png": "[encoded data removed]",
      "text/plain": [
       "<Figure size 720x432 with 1 Axes>"
      ]
     },
     "metadata": {
      "needs_background": "light"
     },
     "output_type": "display_data"
    }
   ],
   "source": [
    "# Menampilkan visualisasi grafik pendapatan tertinggi per kategori produk\n",
    "plt.figure(figsize=(10, 6))\n",
    "ax = sns.barplot(x=category_revenue.index, y=category_revenue.values, color='b')\n",
    "ax.set_title('10 Kategori Produk dengan Pendapatan Tertinggi')\n",
    "ax.set_xlabel('Kategori Produk')\n",
    "ax.set_ylabel('Pendapatan')\n",
    "\n",
    "# Menambahkan label value pada bar\n",
    "for p in ax.patches:\n",
    "    ax.annotate(format(p.get_height(), '.0f'), (p.get_x() + p.get_width() / 2., p.get_height()), \n",
    "                ha = 'center', va = 'center', xytext = (0, 10), textcoords = 'offset points')\n",
    "\n",
    "\n",
    "plt.xticks(rotation=45)\n",
    "plt.ylim([0, 990000])\n",
    "plt.tight_layout()\n",
    "#plt.savefig(\"img/3-b-kategori-tertinggi.jpeg\")\n",
    "plt.show()\n",
    "\n"
   ]
  },
  {
   "cell_type": "markdown",
   "metadata": {},
   "source": [
    "Setelah mengetahui apa saja kategori dengan pendapatan tertinggi kita bisa menambah jumlah atau variasi produk pada kategori dengan pendapatan tertinggi."
   ]
  },
  {
   "cell_type": "markdown",
   "metadata": {},
   "source": [
    "### c. 10 Kota dengan penjualan tertinggi"
   ]
  },
  {
   "cell_type": "code",
   "execution_count": 45,
   "metadata": {},
   "outputs": [
    {
     "name": "stdout",
     "output_type": "stream",
     "text": [
      "             Kota  Total Penjualan\n",
      "0       sao paulo       1403019.53\n",
      "1  rio de janeiro        682553.15\n",
      "2  belo horizonte        267245.75\n",
      "3        brasilia        208885.50\n",
      "4        curitiba        143343.87\n",
      "5    porto alegre        137494.12\n",
      "6        campinas        128861.22\n",
      "7        salvador        122180.35\n",
      "8       guarulhos        110828.79\n",
      "9         niteroi         90292.46\n"
     ]
    }
   ],
   "source": [
    "# Menggabungkan tabel Olist Orders dengan Olist Customer\n",
    "df_order_customer = pd.merge(df_orders, df_customer, on='customer_id')\n",
    "\n",
    "# Menggabungkan dengan tabel Olist Order Payment\n",
    "df_order_and_payment = pd.merge(df_order_customer, df_order_payments, on='order_id')\n",
    "\n",
    "# Menghitung total penjualan (payment_value) per kota pelanggan\n",
    "city_sales = df_order_and_payment.groupby('customer_city')['payment_value'].sum().sort_values(ascending=False)\n",
    "\n",
    "# Mengambil 10 kota dengan total penjualan tertinggi\n",
    "top_10_cities = city_sales.head(10)\n",
    "\n",
    "# Menampilkan tabel penjualan per kota\n",
    "top_10_cities_df = top_10_cities.reset_index()\n",
    "top_10_cities_df.columns = ['Kota', 'Total Penjualan']\n",
    "print(top_10_cities_df)\n"
   ]
  },
  {
   "cell_type": "code",
   "execution_count": 51,
   "metadata": {
    "scrolled": false
   },
   "outputs": [
    {
     "data": {
      "image/png": "[encoded data removed]",
      "text/plain": [
       "<Figure size 936x576 with 1 Axes>"
      ]
     },
     "metadata": {
      "needs_background": "light"
     },
     "output_type": "display_data"
    }
   ],
   "source": [
    "# Menampilkan visualisasi grafik penjualan per kota\n",
    "plt.figure(figsize=(13, 8))\n",
    "ax = sns.barplot(x=top_10_cities.index, y=top_10_cities.values, color='b')\n",
    "ax.set_title('Penjualan per Kota (Top 10)')\n",
    "ax.set_xlabel('Kota')\n",
    "ax.set_ylabel('Total Penjualan')\n",
    "\n",
    "# Menambahkan label value pada bar\n",
    "for p in ax.patches:\n",
    "    ax.annotate(format(p.get_height(), '.0f'), (p.get_x() + p.get_width() / 2., p.get_height()), \n",
    "                ha='center', va='center', xytext=(0, 10), textcoords='offset points')\n",
    "\n",
    "\n",
    "plt.xticks(rotation=45)\n",
    "plt.ylim([0, 1600000])\n",
    "#plt.savefig(\"img/3-c-penjulan-perkota.jpeg\")\n",
    "plt.show()"
   ]
  },
  {
   "cell_type": "markdown",
   "metadata": {},
   "source": [
    "Kota dengan penjalan teringgi adalah Sao Paulo (1403019) dan Rio de Janeiro (682553) berbeda jauh dengan kota-kota lainnya. DI kedua kota ini kita bisa menambah promo agar lebih banyak penjualan dan mengantisipasi agar tidak kehabisan produk."
   ]
  },
  {
   "cell_type": "markdown",
   "metadata": {},
   "source": [
    "### d. Metode Pembayaran yang paling diminati"
   ]
  },
  {
   "cell_type": "code",
   "execution_count": 47,
   "metadata": {},
   "outputs": [
    {
     "name": "stdout",
     "output_type": "stream",
     "text": [
      "credit_card    65448\n",
      "boleto         18342\n",
      "voucher         5674\n",
      "debit_card      1436\n",
      "not_defined        3\n",
      "Name: payment_type, dtype: int64\n"
     ]
    }
   ],
   "source": [
    "# Menggabungkan tabel Olist Orders dan Olist Order Payments berdasarkan order_id\n",
    "merged_data = pd.merge(df_orders, df_order_payments, on='order_id')\n",
    "\n",
    "# Menghitung jumlah transaksi menggunakan setiap metode pembayaran\n",
    "payment_counts = merged_data['payment_type'].value_counts()\n",
    "\n",
    "# Menampilkan metode pembayaran dengan jumlah transaksi tertinggi\n",
    "print(payment_counts)"
   ]
  },
  {
   "cell_type": "code",
   "execution_count": 52,
   "metadata": {},
   "outputs": [
    {
     "data": {
      "image/png": "[encoded data removed]",
      "text/plain": [
       "<Figure size 720x432 with 1 Axes>"
      ]
     },
     "metadata": {
      "needs_background": "light"
     },
     "output_type": "display_data"
    }
   ],
   "source": [
    "# Membuat plot bar menggunakan seaborn\n",
    "plt.figure(figsize=(10, 6))\n",
    "ax = sns.barplot(x=payment_counts.index, y=payment_counts.values)\n",
    "ax.set_title('Jumlah Transaksi Berdasarkan Metode Pembayaran')\n",
    "ax.set_xlabel('Metode Pembayaran')\n",
    "ax.set_ylabel('Jumlah Transaksi')\n",
    "\n",
    "# Menambahkan label value pada bar\n",
    "for p in ax.patches:\n",
    "    ax.annotate(format(p.get_height(), '.0f'), (p.get_x() + p.get_width() / 2., p.get_height()), \n",
    "                ha='center', va='center', xytext=(0, 10), textcoords='offset points')\n",
    "\n",
    "\n",
    "plt.ylim([0, 72000])\n",
    "#plt.savefig(\"img/3-d-metode-pembayaran.jpg\")\n",
    "plt.show()\n",
    "\n"
   ]
  },
  {
   "cell_type": "markdown",
   "metadata": {},
   "source": [
    "Pembayaran yang paling diminati adalah Credit Card. Selanjutnya kita bisa mengoptimalkan dan menambahkan promo-promo atau voucher bagi customer yang melakukan pembayaran dengan metode Credit Card."
   ]
  },
  {
   "cell_type": "code",
   "execution_count": null,
   "metadata": {},
   "outputs": [],
   "source": []
  }
 ],
 "metadata": {
  "kernelspec": {
   "display_name": "Python 3",
   "language": "python",
   "name": "python3"
  },
  "language_info": {
   "codemirror_mode": {
    "name": "ipython",
    "version": 3
   },
   "file_extension": ".py",
   "mimetype": "text/x-python",
   "name": "python",
   "nbconvert_exporter": "python",
   "pygments_lexer": "ipython3",
   "version": "3.8.8"
  }
 },
 "nbformat": 4,
 "nbformat_minor": 2
}
